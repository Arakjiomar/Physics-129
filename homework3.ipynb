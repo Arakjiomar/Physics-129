{
 "cells": [
  {
   "cell_type": "markdown",
   "id": "0",
   "metadata": {},
   "source": [
    "# Physics 129 Fall 2025 Homework 3 \n",
    "\n",
    "**Due Friday September 26 11:59PM**\n",
    "\n",
    "submit the PDF version of the complete notebook to GradeScope"
   ]
  },
  {
   "cell_type": "markdown",
   "id": "1",
   "metadata": {},
   "source": [
    "## Question 1: Fitting a Signal in the Presence of Background (30 points)"
   ]
  },
  {
   "cell_type": "markdown",
   "id": "2",
   "metadata": {},
   "source": [
    "### Learning objectives\n",
    "In this question you will:\n",
    "\n",
    "- Gain experience in performing $\\chi^2$ fits to histogrammed data; explore how the statistical significance of a signal depends on the number of signal events and the signal-to-background ratio\n"
   ]
  },
  {
   "cell_type": "markdown",
   "id": "3",
   "metadata": {},
   "source": [
    "### 1a. "
   ]
  },
  {
   "cell_type": "markdown",
   "id": "4",
   "metadata": {
    "flags": [
     "problems",
     "solutions"
    ]
   },
   "source": [
    "Physicists often fit for signals in the presence of background.  In such cases, the significance of the fitted signal depends not only on the number of signal events but also on the amount of background and our ability to statistically separate the two.  In this problem, we will explore fitting signal and background for a very simple case:  The signal is a Gaussian peak centered at $x=10$ with a width $\\sigma=1$ and the background is uniformly distributed between $x=0$ and $x=20$.  The code below generates fake data, allowing you to change both the number of events in the signal and the ratio of signal-to-background.  To make sure that our definition of background does not depend on the fit range, the code below defines the signal-to-background ratio as the ratio number of signal events to the number of background events in a $\\pm 2 \\sigma$ window around the signal peak.  Here is the code you will use to generate the fake data:"
   ]
  },
  {
   "cell_type": "code",
   "execution_count": 2,
   "id": "5",
   "metadata": {
    "flags": [
     "problems",
     "solutions"
    ]
   },
   "outputs": [],
   "source": [
    "import math\n",
    "import numpy as np\n",
    "import random\n",
    "import matplotlib.pyplot as plt\n",
    "from scipy.optimize import minimize\n",
    "\n",
    "def makeData( SignalToBackground, nSigEvents, seed=12345):\n",
    "    \"\"\"Generates a dataset consisting of nEvents some of which are signal (a Gaussian with a width of 1 centered\n",
    "    at x=5) and the rest of which is background\n",
    "    Definition of SignalToBackground:  The ratio of the number of signal events within 2 sigma of the peak to the number\n",
    "    of background events in that same x-range  (this definition is just a choice)\n",
    "    \n",
    "    Parameters\n",
    "    ==========\n",
    "     SignalToBackground : float\n",
    "     Ratio of the number of signal events within 2 sigma of the peak to the number\n",
    "    of background events in that same x-range  (this definition is just a choice) \n",
    "      \n",
    "    nSigEvents : int\n",
    "      total number of signal events generated (NOT the number in +- 2 sigma)\n",
    "      \n",
    "    seed : int\n",
    "      seed for the random number generator\n",
    "      \n",
    "    Returns\n",
    "    =======\n",
    "    data : array\n",
    "      the measurements of x\n",
    "    \"\"\"\n",
    "    fracOutsideTwoSigma = 4.55e-2\n",
    "    # 1-fracOutsideTwoSigma is the fraction of the Signal Events within +-2 sigma\n",
    "    # To get the total number of background events, find the number in +-2 sigma\n",
    "    # which is 4 units of x and then since the background is flat from 0 to 20\n",
    "    # multiply by 20/4=5\n",
    "    \n",
    "    nBackground = 5*nSigEvents*(1-fracOutsideTwoSigma)/SignalToBackground\n",
    "    nEvents = nSigEvents+nBackground\n",
    "    fSig = nSigEvents/nEvents\n",
    "    \n",
    "    # Make an array to hold the data (ie the x measurements)\n",
    "    data = []\n",
    "    \n",
    "    # set the random seed.  This will allow us to reproduce the results if we run again\n",
    "    np.random.seed(seed)\n",
    " \n",
    "    # Retrieve nEvents random numbers that will be used to pick which events are signal\n",
    "    # and which are background\n",
    "    n = int(nEvents)\n",
    "    tests = np.random.uniform(0,1,n)\n",
    "    bck = np.random.uniform(0,20,n)\n",
    "    sig = np.random.normal(10,1,n)\n",
    "    \n",
    "    count = 0\n",
    "    for test in tests:\n",
    "        if(test<fSig):\n",
    "            data.append(sig[count])\n",
    "        else:\n",
    "            data.append(bck[count])\n",
    "        count+=1\n",
    "    \n",
    "    # Loop over the events and pick either signal or background and draw from the appropriate \n",
    "    # pdf in each case\n",
    "    \n",
    "    # return the data to the user\n",
    "    return data\n",
    "    "
   ]
  },
  {
   "cell_type": "markdown",
   "id": "6",
   "metadata": {
    "flags": [
     "problems",
     "solutions"
    ]
   },
   "source": [
    "Below is a simple test to show you how to use this code.  Remember if you run this code multiple times you should change the seed each time (for example, you could increment the seed each time you call the function)"
   ]
  },
  {
   "cell_type": "code",
   "execution_count": 14,
   "id": "7",
   "metadata": {
    "flags": [
     "problems",
     "solutions"
    ]
   },
   "outputs": [
    {
     "name": "stdout",
     "output_type": "stream",
     "text": [
      "number of total data events:  115\n",
      "data:  [np.float64(11.047401505881462), np.float64(11.57102936217666), np.float64(10.430661187946646), np.float64(0.05376129148641384), np.float64(19.7669083856564), np.float64(18.106831513232198), np.float64(4.15271722392649), np.float64(5.849788255848496), np.float64(10.40020306144967), np.float64(18.038227453213413), np.float64(19.672617698234465), np.float64(5.150841283081662), np.float64(11.287180858495633), np.float64(10.579689779144333), np.float64(7.887401079055496), np.float64(14.621460716891141), np.float64(3.221380288584297), np.float64(12.013971356671798), np.float64(17.317289166065294), np.float64(19.67043218407111), np.float64(1.5873158075603144), np.float64(8.566945494018984), np.float64(4.0908571909285545), np.float64(9.012729810374696), np.float64(10.95527145257708), np.float64(1.8665342073964153), np.float64(5.937215509613589), np.float64(18.55168480304295), np.float64(11.380074628603907), np.float64(9.148239950472238), np.float64(8.762646787312146), np.float64(14.837243036840746), np.float64(0.9715806568853758), np.float64(14.17394790885492), np.float64(16.784866956101673), np.float64(3.3187576841390776), np.float64(15.619958759999147), np.float64(5.730732334582038), np.float64(6.129395066591146), np.float64(13.30522930699366), np.float64(2.227843432154315), np.float64(9.800887617242747), np.float64(17.757135853524453), np.float64(13.926225364708127), np.float64(8.806557533308181), np.float64(8.764287687544494), np.float64(15.30192190478613), np.float64(11.312840024517657), np.float64(1.6980832638363519), np.float64(11.653421757228093), np.float64(8.53488377794505), np.float64(6.7413276689521995), np.float64(18.55153159150779), np.float64(15.014340006863359), np.float64(11.48127650299929), np.float64(15.032879775858367), np.float64(1.5829792147641042), np.float64(17.18778151361223), np.float64(16.43008226401116), np.float64(18.197433192204176), np.float64(2.5726239501876003), np.float64(1.6356017418797042), np.float64(2.7683114556317956), np.float64(7.9875742020560025), np.float64(8.486137221619838), np.float64(9.416463283292343), np.float64(2.444870992650101), np.float64(4.027990027627418), np.float64(16.232886965680432), np.float64(9.359751481134989), np.float64(11.218985862132426), np.float64(0.14852757089226065), np.float64(11.03185451964811), np.float64(18.638642961533563), np.float64(11.408369146076902), np.float64(4.121914548905483), np.float64(14.355151245591152), np.float64(9.330381400130241), np.float64(11.264625286968007), np.float64(0.5863944578754254), np.float64(12.718007187027123), np.float64(0.64395869875848), np.float64(14.89561310283532), np.float64(9.458260044769101), np.float64(2.4350871094610738), np.float64(10.85271851577012), np.float64(1.335488864500094), np.float64(9.317461845796695), np.float64(19.92172654735651), np.float64(15.387946741479245), np.float64(11.475482273176489), np.float64(2.052705184215917), np.float64(13.996681495458294), np.float64(13.223357346558622), np.float64(0.9819426124555264), np.float64(15.845986036891812), np.float64(8.076284270302875), np.float64(8.517353883998382), np.float64(15.76374347202931), np.float64(8.231384464176744), np.float64(9.620525510103072), np.float64(3.6325768534764924), np.float64(10.765054845997017), np.float64(9.17101116623899), np.float64(3.738074978534307), np.float64(8.345821218066883), np.float64(19.78069014790599), np.float64(4.731996234110387), np.float64(18.33664665877658), np.float64(18.36794935611266), np.float64(1.8259268440640364), np.float64(9.27305449771032), np.float64(11.175910771834607), np.float64(6.273379001042549), np.float64(0.9467907447547397)]\n"
     ]
    }
   ],
   "source": [
    "mydata = []\n",
    "#  make 10 signal events with a signalToBackground of 1 using random seed 123\n",
    "mydata=makeData(1,20,123)\n",
    "print(\"number of total data events: \",len(mydata))\n",
    "print(\"data: \",mydata)"
   ]
  },
  {
   "cell_type": "markdown",
   "id": "8",
   "metadata": {
    "flags": [
     "problems",
     "solutions"
    ]
   },
   "source": [
    "Generate a sample of 1000 signal events with signalToBackground=0.5 and make a histogram of your results. Make sure that the number of bins in your histogram is small enough that you have at least 10 entries per bin (so that it is reasonable to do a binned fit to the histogram). To make life a bit easier, here is function you can use to make your histograms.  You are of course free to write your own function and not use this code."
   ]
  },
  {
   "cell_type": "code",
   "execution_count": 41,
   "id": "9",
   "metadata": {
    "flags": [
     "problems",
     "solutions"
    ]
   },
   "outputs": [],
   "source": [
    "#Import the pyplot module of matplotlib as \"plt\"\n",
    "import matplotlib.pyplot as plt\n",
    "\n",
    "\n",
    "#Makes a histogram filled with the random numbers we generate\n",
    "def plot_histogram(samples,xtitle,ytitle, title, nbins, limits):\n",
    "    print('before denoising')\n",
    "    #Plot the histogram of the sampled data with nbins and a nice color\n",
    "    n, bins, patches =plt.hist(samples, bins=nbins, range=limits, color='red', label = 'data')  #Set the color using (r,g,b) values or\n",
    "                                                                  #  use a built-in matplotlib color\"\"\" \n",
    "    bincenters = 0.5*(bins[1:]+bins[:-1])\n",
    "    errs = np.sqrt(n)\n",
    "\n",
    "    plt.errorbar(bincenters, n, yerr=errs, fmt='none', color = 'blue', label = 'error = sqrt(data)')\n",
    "    #Add some axis labels and a descriptive title\n",
    "    plt.xlabel(xtitle)\n",
    "    plt.ylabel(ytitle)\n",
    "\n",
    "    #Get rid of the extra white space on the left/right edges (you can delete these two lines without a problem)\n",
    "    xmin, xmax, ymin, ymax = plt.axis()\n",
    "    plt.axis([limits[0],limits[1],ymin,ymax])\n",
    "    plt.legend()\n",
    "\n",
    "    #Not necessarily needed in a Jupyter notebook, but it doesn't hurt\n",
    "    plt.show()\n",
    "    return n, bins, patches\n",
    "\n",
    "\n",
    "# Since we know that background events dominate away from the bell curve, in order to denoise the histogram, we take the average number\n",
    "# of events at the first few and last few bins, and subtract that number from all of the bins, leaving us with the top half of the gaussian curve\n",
    "\n",
    "def plot_histogram_denoised(samples, xtitle, ytitle, title, nbins, limits):\n",
    "    print('after denoising')\n",
    "    n, bins = np.histogram(samples, bins=nbins, range=limits)\n",
    "    bincenters = 0.5 * (bins[1:] + bins[:-1])\n",
    "\n",
    "    ext_bins = int(nbins * 0.3)  \n",
    "\n",
    "    sum_events = n[:ext_bins].sum() + n[-ext_bins:].sum()\n",
    "    avg_bkg = sum_events / (2 * ext_bins)\n",
    "\n",
    "    # Subtract average background from each bin\n",
    "    n_denoised = n - avg_bkg\n",
    "    n_denoised[n_denoised < 0] = 0  #debugging from CHATGPT\n",
    "\n",
    "    errs = np.sqrt(n_denoised)\n",
    "\n",
    "    #plot\n",
    "    plt.bar(bincenters, n_denoised, width=bins[1]-bins[0], color='red', label='data - avg bkg')\n",
    "    plt.errorbar(bincenters, n_denoised, yerr=errs, fmt='none', color='blue', label='error = sqrt(data)')\n",
    "    plt.xlabel(xtitle)\n",
    "    plt.ylabel(ytitle)\n",
    "    plt.title(title)\n",
    "    plt.axis([limits[0], limits[1], min(0, n_denoised.min()), max(n_denoised.max(), 1)])\n",
    "    plt.legend()\n",
    "    plt.show()\n",
    "\n",
    "    return n_denoised, bins\n",
    "\n"
   ]
  },
  {
   "cell_type": "code",
   "execution_count": 42,
   "id": "10",
   "metadata": {},
   "outputs": [
    {
     "name": "stdout",
     "output_type": "stream",
     "text": [
      "before denoising\n"
     ]
    },
    {
     "data": {
      "image/png": "[encoded data removed]",
      "text/plain": [
       "<Figure size 640x480 with 1 Axes>"
      ]
     },
     "metadata": {},
     "output_type": "display_data"
    },
    {
     "name": "stdout",
     "output_type": "stream",
     "text": [
      "after denoising\n"
     ]
    },
    {
     "data": {
      "image/png": "[encoded data removed]",
      "text/plain": [
       "<Figure size 640x480 with 1 Axes>"
      ]
     },
     "metadata": {},
     "output_type": "display_data"
    }
   ],
   "source": [
    "data = []\n",
    "mydata = makeData(0.5,1000,1234)\n",
    "s_exp = []\n",
    "s_meas = []\n",
    "# print(\"number of total data events: \",len(mydata))\n",
    "hist_data = plot_histogram(mydata, 'x', 'Number of Events', '1000 events with S/B = 0.5', int(len(mydata)/(len(mydata)*0.01)), [0,20])\n",
    "hist_data_denoised = plot_histogram_denoised(mydata, 'x', 'Number of Events', '1000 events with S/B = 0.5', int(len(mydata)/(len(mydata)*0.01)), [0,20])\n",
    "\n",
    "\n",
    "\n",
    "    "
   ]
  },
  {
   "cell_type": "markdown",
   "id": "11",
   "metadata": {},
   "source": [
    "### 1b. "
   ]
  },
  {
   "cell_type": "markdown",
   "id": "12",
   "metadata": {
    "flags": [
     "problems",
     "solutions"
    ]
   },
   "source": [
    "Pretend this is real data.  Your goal is to find the best estimate of how many events are in a Gaussian peak with unknown mean and sigma and what the uncertainty on this estimate is.  In your fit, you can make the assumption that the background is flat (a zeroth order polynomial) but that you don't have a prediction for the background rate.  Use your favorite minimization package to fit the data.  Deterimine the best estimate of the number of events in signal and the uncertainty on that estimate.  (remember, that you must let the position and width of the Gaussian and the size of the background vary in your fit).\n",
    "\n",
    "Hint: For examples of how to perform a least squared fit of a function to data see:\n",
    "- https://github.com/berkeley-physics/Python-Tutorials/blob/master/3%20-%20Specific%20topics/Fitting.ipynb\n",
    "- https://docs.scipy.org/doc/scipy/reference/generated/scipy.optimize.curve_fit.html"
   ]
  },
  {
   "cell_type": "code",
   "execution_count": 43,
   "id": "13",
   "metadata": {},
   "outputs": [
    {
     "name": "stdout",
     "output_type": "stream",
     "text": [
      "[86.93205172  9.99541226  0.94116214 95.19574021]\n",
      "[[ 1.40513383e+01  1.43639503e-08 -8.69114535e-02 -7.10515064e-01]\n",
      " [ 1.43639503e-08  2.11740897e-03 -1.50148847e-10 -1.24222046e-11]\n",
      " [-8.69114535e-02 -1.50148847e-10  2.35295696e-03 -1.53845155e-02]\n",
      " [-7.10515064e-01 -1.24222046e-11 -1.53845155e-02  1.00482004e+00]]\n"
     ]
    },
    {
     "data": {
      "image/png": "[encoded data removed]",
      "text/plain": [
       "<Figure size 640x480 with 1 Axes>"
      ]
     },
     "metadata": {},
     "output_type": "display_data"
    },
    {
     "name": "stdout",
     "output_type": "stream",
     "text": [
      "A     = 86.93 ± 3.75\n",
      "mu    = 10.00 ± 0.05\n",
      "sigma = 0.94 ± 0.05\n",
      "B     = 95.20 ± 1.00\n",
      "Signal events ≈ 205.1 ± 13.8\n"
     ]
    }
   ],
   "source": [
    "from scipy.optimize import curve_fit\n",
    "# def polyFit(data, bins, df):\n",
    "#     mu_fit = np.polyfit(bins, data, df)\n",
    "#     model_mesh = np.polyval(mu_fit, bins) \n",
    "#     print(mu_fit)\n",
    "#     plt.bar(bins, data, width= bins[1]-bins[0], align='center', edgecolor='black')\n",
    "#     plt.plot(bins, model_mesh, c=\"b\", label=\"polynomial fit\")\n",
    "\n",
    "counts = hist_data[0]\n",
    "edges  = hist_data[1]\n",
    "x = 0.5*(edges[1:] + edges[:-1])\n",
    "y = counts\n",
    "\n",
    "# polyFit(y, x, 15)\n",
    "\n",
    "\n",
    "def gauss_plus_const(x, A, mu, sigma, B):\n",
    "    return A * np.exp(-(x-mu)**2/(2*sigma**2)) + B # the constant B will account for the non denoising factor\n",
    "\n",
    "\n",
    "def normalFit(y, x):\n",
    "    yerr = np.sqrt(y)\n",
    "    popt, pcov = curve_fit(gauss_plus_const, x, y)\n",
    "    print(popt)\n",
    "    print(pcov)\n",
    "\n",
    "    perr = np.sqrt(np.diag(pcov))  \n",
    "\n",
    "    plt.errorbar(x, y, yerr=yerr, fmt='o', color='black', label='data')\n",
    "    plt.plot(x, gauss_plus_const(x, *popt), 'r-', label='gaussian fit')\n",
    "    plt.xlabel(\"x\")\n",
    "    plt.ylabel(\"Counts\")\n",
    "    plt.legend()\n",
    "    plt.show()\n",
    "\n",
    "\n",
    "    \n",
    "    #formatting from CHATGPT\n",
    "    print(f\"A     = {popt[0]:.2f} ± {perr[0]:.2f}\")\n",
    "    print(f\"mu    = {popt[1]:.2f} ± {perr[1]:.2f}\")\n",
    "    print(f\"sigma = {popt[2]:.2f} ± {perr[2]:.2f}\")\n",
    "    print(f\"B     = {popt[3]:.2f} ± {perr[3]:.2f}\")\n",
    "\n",
    "    N_signal = popt[0] * np.sqrt(2*np.pi) * popt[2]\n",
    "  \n",
    "    N_err = N_signal * np.sqrt( (perr[0]/popt[0])**2 + (perr[2]/popt[2])**2 )\n",
    "    print(f\"Signal events ≈ {N_signal:.1f} ± {N_err:.1f}\")\n",
    "\n",
    "    return popt, perr, N_signal\n",
    "\n",
    "popt, perr, N_meas = normalFit(y, x)"
   ]
  },
  {
   "cell_type": "markdown",
   "id": "14",
   "metadata": {},
   "source": [
    "### 1c. "
   ]
  },
  {
   "cell_type": "markdown",
   "id": "15",
   "metadata": {
    "flags": [
     "problems",
     "solutions"
    ]
   },
   "source": [
    "What is the $\\chi^2$ per degree of freedom for your fit?  What does this number tell you about how well your fit describes the data?"
   ]
  },
  {
   "cell_type": "code",
   "execution_count": 44,
   "id": "16",
   "metadata": {},
   "outputs": [
    {
     "name": "stdout",
     "output_type": "stream",
     "text": [
      "205.0851958775627\n",
      "3.7485114792139163\n",
      "the chi squared value is:\n",
      "0.7439142842243457\n",
      "The measured significance is:\n",
      "54.71110253090921\n",
      "The expected significance is:\n",
      "51.34442520858521\n",
      "[np.float64(54.71110253090921)]\n",
      "[np.float64(51.34442520858521)]\n"
     ]
    }
   ],
   "source": [
    "def chiSquared(func, meas, dof):\n",
    "    exp_vals = func\n",
    "    meas_vals = meas\n",
    "    sigma = np.sqrt(meas)\n",
    "\n",
    "    chi_squared_val = np.sum(((exp_vals-meas_vals)**2)/(sigma**2))/dof\n",
    "    return chi_squared_val\n",
    "# free parameters = 4\n",
    "A = popt[0]\n",
    "mu = popt[1]\n",
    "stdv = popt[2]\n",
    "B = popt[3]\n",
    "meas = y\n",
    "f = 0.5\n",
    "dof = len(meas) - 4\n",
    "print(N_meas)\n",
    "print(perr[0])\n",
    "func = gauss_plus_const(x, A, mu, stdv, B)\n",
    "print('the chi squared value is:')\n",
    "print(float(chiSquared(func, meas, dof)))\n",
    "\n",
    "print('The measured significance is:')\n",
    "S_meas = N_meas/perr[0]\n",
    "print(S_meas)\n",
    "print('The expected significance is:')\n",
    "N_total = len(mydata)\n",
    "N_s = f * N_total\n",
    "N_b = N_total - N_s\n",
    "S_expected = N_s / np.sqrt(N_s + N_b)\n",
    "print(S_expected)\n",
    "\n",
    "s_meas.append(S_meas)\n",
    "s_exp.append(S_expected)\n",
    "print(s_meas)\n",
    "print(s_exp)"
   ]
  },
  {
   "cell_type": "markdown",
   "id": "f9d6ef45-4b82-4134-8e63-b5c65178edb0",
   "metadata": {},
   "source": [
    "My chi-squared value is 0.7439 so therefore the gaussian model explains the data fairly well. If we generate way more events, we should expect the Chi squared value to be closer to 1. "
   ]
  },
  {
   "cell_type": "markdown",
   "id": "17",
   "metadata": {},
   "source": [
    "### 1d. "
   ]
  },
  {
   "cell_type": "markdown",
   "id": "18",
   "metadata": {
    "flags": [
     "problems",
     "solutions"
    ]
   },
   "source": [
    "If a signal of size $N_S^{meas}$ has a fitted uncertainty $\\sigma_S$, the signficance of the measurement is defined to be\n",
    "$$\n",
    "S^{meas} \\equiv \\frac{N_S^{meas}}{\\sigma_S}\n",
    "$$\n",
    "When the size of the data sample is large enough that Gaussian uncertainties are appropriate, a rule of thumb can be used to give a crude estimate of the expected significance $S^{expected}$ of the measurement. This predicted signficance depends on the number of signal events ($N_{S}$) and is the number of background events populating the region **beneath the signal** ($N_B$):\n",
    "$$\n",
    "S^{expected}  \\approx  \\frac{N_S}{\\sqrt{N_S+N_B}}\n",
    "$$\n",
    "\n",
    "Repeat the above exercise changing both the number of events in your signal and the signalToBackground ratio.  Plot the values of the measured significance  $S^{meas}$ \n",
    "obtained from your fits as a function of $\\frac{N_S}{\\sqrt{N_S+N_B}}$.  How do your results compare to the simple rule of thumb quoted above?"
   ]
  },
  {
   "cell_type": "code",
   "execution_count": 46,
   "id": "19",
   "metadata": {},
   "outputs": [
    {
     "name": "stdout",
     "output_type": "stream",
     "text": [
      "number of total data events:  169083\n",
      "before denoising\n"
     ]
    },
    {
     "data": {
      "image/png": "[encoded data removed]",
      "text/plain": [
       "<Figure size 640x480 with 1 Axes>"
      ]
     },
     "metadata": {},
     "output_type": "display_data"
    },
    {
     "name": "stdout",
     "output_type": "stream",
     "text": [
      "[8.09655106e+02 9.99988444e+00 9.98507219e-01 1.58950626e+03]\n",
      "[[ 3.13302241e+02  3.56077483e-08 -2.17806981e-01 -1.71057927e+01]\n",
      " [ 3.56077483e-08  6.10802339e-04 -4.85839427e-11  5.11708741e-10]\n",
      " [-2.17806981e-01 -4.85839427e-11  6.84386723e-04 -4.21912036e-02]\n",
      " [-1.71057927e+01  5.11708741e-10 -4.21912036e-02  2.41912437e+01]]\n"
     ]
    },
    {
     "data": {
      "image/png": "[encoded data removed]",
      "text/plain": [
       "<Figure size 640x480 with 1 Axes>"
      ]
     },
     "metadata": {},
     "output_type": "display_data"
    },
    {
     "name": "stdout",
     "output_type": "stream",
     "text": [
      "A     = 809.66 ± 17.70\n",
      "mu    = 10.00 ± 0.02\n",
      "sigma = 1.00 ± 0.03\n",
      "B     = 1589.51 ± 4.92\n",
      "Signal events ≈ 2026.5 ± 69.1\n",
      "17.70034578939226\n",
      "The measured significance is:\n",
      "114.487863785442\n",
      "The expected significance is:\n",
      "123.35910991896787\n",
      "[np.float64(54.71110253090921), np.float64(114.487863785442), np.float64(114.487863785442)]\n",
      "[np.float64(51.34442520858521), np.float64(123.35910991896787), np.float64(123.35910991896787)]\n"
     ]
    },
    {
     "data": {
      "text/plain": [
       "Text(0.5, 1.0, 'Expected Significance v.s. Measured significance')"
      ]
     },
     "execution_count": 46,
     "metadata": {},
     "output_type": "execute_result"
    },
    {
     "data": {
      "image/png": "[encoded data removed]",
      "text/plain": [
       "<Figure size 640x480 with 1 Axes>"
      ]
     },
     "metadata": {},
     "output_type": "display_data"
    }
   ],
   "source": [
    "data = []\n",
    "mydata = makeData(0.3,10000,12345)\n",
    "f = 0.3\n",
    "print(\"number of total data events: \",len(mydata))\n",
    "hist_data = plot_histogram(mydata, 'x', 'Number of Events', '1000 events with S/B = 0.5', int(len(mydata)/(len(mydata)*0.01)), [0,20])\n",
    "counts = hist_data[0]\n",
    "edges  = hist_data[1]\n",
    "x = 0.5*(edges[1:] + edges[:-1])\n",
    "y = counts\n",
    "popt, perr, N_meas = normalFit(y, x)\n",
    "A = popt[0]\n",
    "mu = popt[1]\n",
    "stdv = popt[2]\n",
    "B = popt[3]\n",
    "meas = y\n",
    "dof = len(meas) - 4\n",
    "\n",
    "func = gauss_plus_const(x, A, mu, stdv, B)\n",
    "float(chiSquared(func, meas, dof))\n",
    "print(perr[0])\n",
    "print('The measured significance is:')\n",
    "S_meas = N_meas/perr[0]\n",
    "print(S_meas)\n",
    "print('The expected significance is:')\n",
    "N_total = len(mydata)\n",
    "N_s = f * N_total\n",
    "N_b = N_total - N_s\n",
    "S_expected = N_s / np.sqrt(N_s + N_b)\n",
    "print(S_expected)\n",
    "\n",
    "s_meas.append(S_meas)\n",
    "s_exp.append(S_expected)\n",
    "print(s_meas)\n",
    "print(s_exp)\n",
    "\n",
    "plt.plot(s_meas, s_exp)\n",
    "plt.title('Expected Significance v.s. Measured significance')\n",
    "\n",
    "    "
   ]
  },
  {
   "cell_type": "code",
   "execution_count": null,
   "id": "149412db-1ea7-426a-a906-ccffcefa5b50",
   "metadata": {},
   "outputs": [],
   "source": [
    "My results are very similar to the rule of thumb, where the discrepancy decreases as i increase the humber of events."
   ]
  },
  {
   "cell_type": "markdown",
   "id": "f90c77ac",
   "metadata": {},
   "source": [
    "## Question 2: Noether's Theorem (20 points)"
   ]
  },
  {
   "cell_type": "markdown",
   "id": "7b7ad654",
   "metadata": {},
   "source": [
    "### Learning objectives\n",
    "In this question you will:\n",
    "\n",
    "- Review the meaning of Noether's theorem\n",
    "- Apply Noether's theorm to a non-relativistic quantum mechanical example "
   ]
  },
  {
   "cell_type": "markdown",
   "id": "8f49c422",
   "metadata": {},
   "source": [
    "In non-relativistic quantum mechanics, we learned that if an operator commutes with the Hamiltonian, the expectation value of that operator is a conserved quantity.  The same concept holds in relativistic quantum mechanics but is expressed using Lagrangian language.  The Lagrangian can be expressed as $$ L = T - V$$ where $T$ is the kinetic energy of the system and $V$ is the potential energy of the system. The action, S, of a trajectory is defined as the integral of the Lagrangian with respect to time during the trajectory, i.e. $$ S = \\int L \\hspace{0.05in} dt $$.\n",
    "\n",
    "Noether's theorem tells us that for every symmetry of the action there is a conserved quantum number.\n",
    "\n",
    "Consider the following example for the case of non-relativisitic quantum mechanics.  A particle with spin-$\\frac{1}{2}$ and magnetic moment $\\vec \\mu = g \\frac{q}{2m} \\vec S$ where $q$ is the charge of the particle and $\\vec S$ is the spin is placed in a constant magnetic field in the $z$-direction $\\vec B = B_0 \\hat z$.  The Lagrangian is therefore\n",
    "$$\n",
    "L = \\frac{\\left ( \\vec p \\right ) ^2}{2m}  + \\vec \\mu \\cdot B\n",
    "$$\n",
    "Which of the following are conserved quantities:\n",
    "- (a) $p_x$, the $x$-component of the momentum\n",
    "- (b) $p_z$, the $z$-component of the momentum\n",
    "- (c) $S_x$, the $x$-component of the spin\n",
    "- (d) $S_z$, the $z$-component of the spin\n",
    "- (e) $\\vec S^2$ the magnitude of the spin-squared operator"
   ]
  },
  {
   "cell_type": "markdown",
   "id": "fdbb17dc-2515-4247-bbe6-9b8f6633a938",
   "metadata": {},
   "source": [
    "\n",
    "$$\n",
    "\\mathcal{L} = \\frac{\\vec p^{\\,2}}{2m} + \\vec\\mu \\cdot \\vec B\n",
    "= \\frac{\\vec p^{\\,2}}{2m} + \\frac{gqB_0}{2m}S_z.\n",
    "$$\n",
    "\n",
    "From the Lagrangian we construct the Hamiltonian\n",
    "$$\n",
    "H = \\frac{\\vec p^{\\,2}}{2m} + \\frac{gqB_0}{2m}S_z\n",
    "= \\frac{1}{2m}\\bigl(\\vec p^{\\,2} - gqB_0 S_z \\bigr).\n",
    "$$\n",
    "\n",
    "---\n",
    "\n",
    "### Checking if \\(p_x\\) is conserved\n",
    "\n",
    "$$\n",
    "[\\hat H, p_x] = \\hat H p_x - p_x \\hat H.\n",
    "$$\n",
    "\n",
    "$$\n",
    "[\\hat H, p_x]\n",
    "= \\frac{1}{2m}\\Bigl\\{\\vec p^{\\,2}p_x + gqB_0 S_z p_x - p_x\\vec p^{\\,2} - gqB_0 p_x S_z\\Bigr\\}.\n",
    "$$\n",
    "\n",
    "Since\n",
    "$$\n",
    "[\\vec p^{\\,2},p_x]=0, \\qquad [p_x,S_z]=0,\n",
    "$$\n",
    "we find\n",
    "$$\n",
    "[\\hat H,p_x] = \\frac{1}{2m}\\Bigl\\{\\vec p^{\\,2}p_x - p_x\\vec p^{\\,2}\n",
    "+ gqB_0(S_zp_x - p_xS_z)\\Bigr\\} = 0.\n",
    "$$\n",
    "\n",
    "Because the commutator vanishes, \\(p_x\\) is a conserved quantity:\n",
    "$$\n",
    "\\boxed{p_x \\ \\text{is conserved}.}\n",
    "$$\n",
    "### (b) Checking if \\(p_z\\) is conserved\n",
    "\n",
    "$$\n",
    "[\\hat H, p_z] = \\hat H p_z - p_z \\hat H.\n",
    "$$\n",
    "\n",
    "Using the Hamiltonian\n",
    "$$\n",
    "\\hat H = \\frac{\\vec p^{\\,2}}{2m} + \\frac{gqB_0}{2m}S_z\n",
    "$$\n",
    "$$\n",
    "[\\vec p^{\\,2},p_z]=0, \\qquad [S_z,p_z]=0 \\quad \\text{(they act on different spaces)},\n",
    "$$\n",
    "$$\n",
    "[\\hat H,p_z] = 0.\n",
    "$$\n",
    "\n",
    "Thus\n",
    "$$\n",
    "\\boxed{p_z \\ \\text{is conserved}.}\n",
    "$$\n",
    "\n",
    "---\n",
    "\n",
    "### (c) Checking if \\(S_x\\) is conserved\n",
    "\n",
    "$$\n",
    "[S_x,S_z] \\ne 0.\n",
    "$$\n",
    "\n",
    "Since the Hamiltonian depends on \\(S_z\\),\n",
    "$$\n",
    "[\\hat H,S_x] \\ne 0,\n",
    "$$\n",
    "so\n",
    "$$\n",
    "\\boxed{S_x \\ \\text{is not conserved}.}\n",
    "$$\n",
    "\n",
    "---\n",
    "### (d) Checking if \\(S_z\\) is conserved\n",
    "\n",
    "$$\n",
    "[\\vec p^{\\,2},S_z] = 0, \\qquad [S_z,S_z] = 0\n",
    "$$\n",
    "Hence\n",
    "$$\n",
    "[\\hat H, S_z] = 0.\n",
    "$$\n",
    "\n",
    "Therefore\n",
    "$$\n",
    "\\boxed{S_z \\ \\text{is conserved}.}\n",
    "$$\n",
    "\n",
    "---\n",
    "### (e) Checking if \\(S^2\\) is conserved\n",
    "\n",
    "$$\n",
    "[\\vec p^{\\,2},S^2] = 0, \\qquad [S_z,S^2] = 0\n",
    "$$\n",
    "because \\(S^2\\) commutes with all spin components and with momentum.  \n",
    "Hence\n",
    "$$\n",
    "[\\hat H, S^2] = 0.\n",
    "$$\n",
    "\n",
    "Therefore\n",
    "$$\n",
    "\\boxed{S^2 \\ \\text{is conserved}.}\n",
    "$$\n"
   ]
  },
  {
   "cell_type": "markdown",
   "id": "7877b7d7",
   "metadata": {},
   "source": [
    "## Question 3: Parity Properties of Various Operators (20 points)"
   ]
  },
  {
   "cell_type": "markdown",
   "id": "4bc3145c",
   "metadata": {},
   "source": [
    "### Learning objectives\n",
    "In this question you will:\n",
    "\n",
    "- Review the meaning of the terms vector, axial vector, scalar and pseudoscalar and determine the parity property of several operators"
   ]
  },
  {
   "cell_type": "markdown",
   "id": "723b6f0e",
   "metadata": {},
   "source": [
    "We saw in class that operators could be classified according to their properties under the parity operator.  Vector operators change sign under parity\n",
    "\n",
    "$$\n",
    "{\\bf P}\\; \\vec r \\; {\\bf P}^\\dagger \\rightarrow - \\vec r\n",
    "$$\n",
    "\n",
    "while axial vectors do not:\n",
    "\n",
    "$$\n",
    "{\\bf P }\\;\\vec L \\; {\\bf P } ^\\dagger \\rightarrow + \\vec L\n",
    "$$\n",
    "\n",
    "similarly, scalar operators do not change sign under parity \n",
    "\n",
    "$$\n",
    "{\\bf P}\\; \\left (\\vec r \\cdot \\vec p \\right ) \\; {\\bf P}^\\dagger \\rightarrow + \\vec r \\cdot \\vec p\n",
    "$$\n",
    "\n",
    "while pseudoscalar operators do change sign:\n",
    "\n",
    "$$\n",
    "{\\bf P}\\; \\left (\\vec p \\cdot \\vec L \\right ) \\; {\\bf P}^\\dagger \\rightarrow - \\vec p \\cdot \\vec L \n",
    "$$\n",
    "\n",
    "For each of the operators below, state whether they are scalar, pseudoscalar. vector or pseudovector:\n",
    "- (a) $\\vec p_1 \\cdot \\left (\\vec p_2 \\times \\vec p_3 \\right )$ where 1. 2 and 3 are three different particles\n",
    "-(b)  $\\vec p_1 \\times \\left (\\vec p_2 \\times \\vec p_3 \\right )$ where 1. 2 and 3 are three different particles\n",
    "- (c) The magnetic moment $\\vec \\mu$ of a particle\n",
    "- (d) The magnetic field $\\vec B$\\;\\; (Hint: look at the Biot-Savart law)\n",
    "- (e) $\\left (\\vec p_1 \\times \\vec p_2 \\right) \\cdot \\left (\\vec S_1+\\vec S_2 \\right)$ where 1 and 2 are two different particles\n"
   ]
  },
  {
   "cell_type": "markdown",
   "id": "97ae3403",
   "metadata": {},
   "source": [
    "### (a)\n",
    "\n",
    "$$\n",
    "\\mathbf P\\bigl[\\mathbf p_{1}\\cdot(\\mathbf p_{2}\\times\\mathbf p_{3})\\bigr]\\mathbf P^{\\dagger}\n",
    "$$\n",
    "\n",
    "$$\n",
    "\\boldsymbol\\alpha=\\mathbf p_{1},\\qquad\n",
    "\\boldsymbol\\beta=\\mathbf p_{2}\\times\\mathbf p_{3}\n",
    "$$\n",
    "\n",
    "$$\n",
    "\\boldsymbol\\alpha\\mapsto-\\boldsymbol\\alpha,\\qquad\n",
    "\\boldsymbol\\beta\\mapsto+\\boldsymbol\\beta\n",
    "$$\n",
    "\n",
    "$$\n",
    "\\mathbf P(\\boldsymbol\\alpha\\cdot\\boldsymbol\\beta)\\mathbf P^{\\dagger}\n",
    "=(-\\boldsymbol\\alpha)\\cdot(+\\boldsymbol\\beta)\n",
    "=-,\\boldsymbol\\alpha\\cdot\\boldsymbol\\beta\n",
    "$$\n",
    "\n",
    "$$\n",
    "\\boxed{P:\\ \\mathbf p_{1}\\cdot(\\mathbf p_{2}\\times\\mathbf p_{3})\\mapsto-\\mathbf p_{1}\\cdot(\\mathbf p_{2}\\times\\mathbf p_{3})}\n",
    "$$\n",
    "    \n",
    "###Therefore it is a pseudoscalar\n",
    "---\n",
    "\n",
    "### (b)\n",
    "\n",
    "$$\n",
    "\\mathbf P,[\\mathbf p_{1}\\times(\\mathbf p_{2}\\times\\mathbf p_{3})],\\mathbf P^\\dagger\n",
    "=(-\\mathbf p_{1})\\times(+,\\mathbf p_{2}\\times\\mathbf p_{3})\n",
    "=-,\\mathbf p_{1}\\times(\\mathbf p_{2}\\times\\mathbf p_{3})\n",
    "$$\n",
    "\n",
    "$$\n",
    "\\boxed{P:\\ \\mathbf p_{1}\\times(\\mathbf p_{2}\\times\\mathbf p_{3})\\mapsto-\\mathbf p_{1}\\times(\\mathbf p_{2}\\times\\mathbf p_{3})}\n",
    "$$\n",
    "\n",
    "###Therefore it is a vector\n",
    "\n",
    "---\n",
    "\n",
    "### (c)\n",
    "\n",
    "$$\n",
    "\\boldsymbol\\mu=\\frac{gq}{2m}\\mathbf S\n",
    "$$\n",
    "\n",
    "$$\n",
    "\\mathbf P,\\boldsymbol\\mu,\\mathbf P^{\\dagger}=+\\boldsymbol\\mu\n",
    "$$\n",
    "\n",
    "$$\n",
    "\\boxed{P:\\ \\boldsymbol\\mu\\mapsto+\\boldsymbol\\mu}\n",
    "$$\n",
    "###Therefore it is a axial vector\n",
    "\n",
    "---\n",
    "\n",
    "### (d)\n",
    "\n",
    "$$\n",
    "\\mathbf B=\\frac{\\mu_0}{4\\pi}\\int\\frac{I,d\\boldsymbol\\ell\\times\\mathbf r}{r^{2}}\n",
    "$$\n",
    "\n",
    "$$\n",
    "d\\boldsymbol\\ell\\mapsto-,d\\boldsymbol\\ell,\\qquad\n",
    "\\mathbf r\\mapsto-,\\mathbf r\n",
    "$$\n",
    "\n",
    "$$\n",
    "d\\boldsymbol\\ell\\times\\mathbf r\\mapsto(+),(d\\boldsymbol\\ell\\times\\mathbf r)\n",
    "$$\n",
    "\n",
    "$$\n",
    "\\boxed{P:\\ \\mathbf B\\mapsto+\\mathbf B}\n",
    "$$\n",
    "###Therefore it is a axial vector\n",
    "\n",
    "---\n",
    "\n",
    "### (e)\n",
    "\n",
    "$$\n",
    "\\mathbf Z=\\mathbf p_{1}\\times\\mathbf p_{2},\\qquad\n",
    "\\boldsymbol\\Sigma=\\mathbf S_{1}+\\mathbf S_{2}\n",
    "$$\n",
    "\n",
    "$$\n",
    "\\mathbf P(\\mathbf Z\\cdot\\boldsymbol\\Sigma)\\mathbf P^{\\dagger}=+\\mathbf Z\\cdot\\boldsymbol\\Sigma\n",
    "$$\n",
    "\n",
    "$$\n",
    "\\boxed{P:\\ (\\mathbf p_{1}\\times\\mathbf p_{2})\\cdot(\\mathbf S_{1}+\\mathbf S_{2})\\mapsto+(\\mathbf p_{1}\\times\\mathbf p_{2})\\cdot(\\mathbf S_{1}+\\mathbf S_{2})}\n",
    "$$\n",
    "\n",
    "###Therefore it is a scalar\n"
   ]
  },
  {
   "cell_type": "markdown",
   "id": "bb1a797b",
   "metadata": {},
   "source": [
    "## Question 4: Parity in Particle Decays (10 points)"
   ]
  },
  {
   "cell_type": "markdown",
   "id": "0f5bdd74",
   "metadata": {},
   "source": [
    "### Learning objectives\n",
    "In this question you will:\n",
    "\n",
    "- Explore how conservation laws can be used to exclude specific decay channels"
   ]
  },
  {
   "cell_type": "markdown",
   "id": "fd272d22",
   "metadata": {},
   "source": [
    "Show that a scalar meson (a meson with spin 0 and parity +1) cannot decay to three pseudoscalar mesons (mesons with spin 0 and parity -1) in a parity-conserving process such as the strong interaction."
   ]
  },
  {
   "cell_type": "markdown",
   "id": "69cbf9bd",
   "metadata": {},
   "source": [
    "### Q4. Parity in particle decays\n",
    "\n",
    "\n",
    "- **Initial state:** $(P_i = +1)$.\n",
    "- **Final state:** intrinsic parity $(P_f =(-1)^3 = -1)$.\n",
    "\n",
    "The total parity of the final state is\n",
    "$$\n",
    "P_f = (-1)^3 \\,(-1)^{\\ell},\n",
    "$$\n",
    "where $\\ell$ is the spin angular momentum which is 0 for pseudoscalars and 1 for vectors.\n",
    "\n",
    "So $\\ell=0+0+0$\n",
    "\n",
    "So\n",
    "$$\n",
    "P_f = -1, \\qquad P_i = +1.\n",
    "$$\n",
    "\n",
    "Since $(P_f\\neq P_i)$ and parity is conserved in strong decays, this channel is forbidden.\n"
   ]
  },
  {
   "cell_type": "markdown",
   "id": "677e10f7",
   "metadata": {},
   "source": [
    "### AI Technology Disclosure Statement\n",
    "\n",
    "Use of AI technology is **permissible only** for:  \n",
    "- Formatting answers (e.g., converting to Markdown or LaTeX)  \n",
    "- Assisting with coding tasks (e.g., syntax help, debugging)  \n",
    "\n",
    "Students must explicitly state **whether AI technology was used** in completing this homework.  \n",
    "- If **yes**, describe **how** it was used.  \n",
    "- If **no**, state that no AI technology was used.  \n",
    "\n",
    "⚠️ If this disclosure is missing, the homework **will not be graded**.  \n",
    "If it is later completed, the submission will be treated as **late**.\n"
   ]
  },
  {
   "cell_type": "markdown",
   "id": "470a68df",
   "metadata": {},
   "source": [
    "#### Your Answer"
   ]
  },
  {
   "cell_type": "markdown",
   "id": "5d270078",
   "metadata": {},
   "source": [
    "I used chatgpt to debug my code (where i commented) and to plot. I also used it to take my notes and convert it to a markdown form for questions 2,3 and 4."
   ]
  },
  {
   "cell_type": "code",
   "execution_count": null,
   "id": "117e6a38-f04d-40d0-b5f0-e7a349a502bf",
   "metadata": {},
   "outputs": [],
   "source": []
  }
 ],
 "metadata": {
  "kernelspec": {
   "display_name": "Python 3 (ipykernel)",
   "language": "python",
   "name": "python3"
  },
  "language_info": {
   "codemirror_mode": {
    "name": "ipython",
    "version": 3
   },
   "file_extension": ".py",
   "mimetype": "text/x-python",
   "name": "python",
   "nbconvert_exporter": "python",
   "pygments_lexer": "ipython3",
   "version": "3.11.13"
  }
 },
 "nbformat": 4,
 "nbformat_minor": 5
}
